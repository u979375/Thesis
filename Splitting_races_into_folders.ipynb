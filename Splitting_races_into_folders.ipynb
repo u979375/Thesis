{
 "cells": [
  {
   "cell_type": "code",
   "execution_count": 1,
   "metadata": {},
   "outputs": [],
   "source": [
    "import shutil\n",
    "import os\n",
    "\n",
    "\n",
    "path = os.path.abspath(os.getcwd())\n",
    "\n",
    "#creates the five race folders\n",
    "os.mkdir('White')\n",
    "os.mkdir('Black')\n",
    "os.mkdir('Asian')\n",
    "os.mkdir('Indian')\n",
    "os.mkdir('Others')\n",
    "\n",
    "#distributes the filenames into the corresponding race folder\n",
    "for filename in os.listdir('UTKFace'):\n",
    "    if '_0_2016' in filename or '_0_2017' in filename:\n",
    "        shutil.move(path+\"/UTKFace/\"+filename, path+\"/White\")\n",
    "    elif '_1_2016' in filename or '_1_2017' in filename:\n",
    "        shutil.move(path+\"/UTKFace/\"+filename, path+\"/Black\")\n",
    "    elif '_2_2016' in filename or '_2_2017' in filename:\n",
    "        shutil.move(path+\"/UTKFace/\"+filename, path+\"/Asian\")\n",
    "    elif '_3_2016' in filename or '_3_2017' in filename:\n",
    "        shutil.move(path+\"/UTKFace/\"+filename, path+\"/Indian\")\n",
    "    elif '_4_2016' in filename or '_4_2017' in filename:\n",
    "        shutil.move(path+\"/UTKFace/\"+filename, path+\"/Others\")"
   ]
  }
 ],
 "metadata": {
  "kernelspec": {
   "display_name": "Python 3",
   "language": "python",
   "name": "python3"
  },
  "language_info": {
   "codemirror_mode": {
    "name": "ipython",
    "version": 3
   },
   "file_extension": ".py",
   "mimetype": "text/x-python",
   "name": "python",
   "nbconvert_exporter": "python",
   "pygments_lexer": "ipython3",
   "version": "3.7.7"
  }
 },
 "nbformat": 4,
 "nbformat_minor": 4
}
